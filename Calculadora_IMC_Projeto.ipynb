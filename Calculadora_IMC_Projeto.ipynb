{
  "nbformat": 4,
  "nbformat_minor": 0,
  "metadata": {
    "colab": {
      "provenance": [],
      "authorship_tag": "ABX9TyNRYT1eqAqg30q/UnBimJPu",
      "include_colab_link": true
    },
    "kernelspec": {
      "name": "python3",
      "display_name": "Python 3"
    },
    "language_info": {
      "name": "python"
    }
  },
  "cells": [
    {
      "cell_type": "markdown",
      "metadata": {
        "id": "view-in-github",
        "colab_type": "text"
      },
      "source": [
        "<a href=\"https://colab.research.google.com/github/Claytonfred/Clayton-GP/blob/main/Calculadora_IMC_Projeto.ipynb\" target=\"_parent\"><img src=\"https://colab.research.google.com/assets/colab-badge.svg\" alt=\"Open In Colab\"/></a>"
      ]
    },
    {
      "cell_type": "code",
      "execution_count": 7,
      "metadata": {
        "id": "Hn11nVm6g6bo",
        "colab": {
          "base_uri": "https://localhost:8080/"
        },
        "outputId": "66632b30-9064-4467-f23c-3b78f4cddb05"
      },
      "outputs": [
        {
          "output_type": "stream",
          "name": "stdout",
          "text": [
            "Digite a nota 1.....8.5\n",
            "Digite a nota 2.....6.5\n",
            "A média é .... 7.5\n",
            "Passou de ano!\n"
          ]
        }
      ],
      "source": [
        "# Declaração de Variaveis\n",
        "# Literal = str / Numero inteiro = int / Numero Real = float\n",
        "nota1 : float\n",
        "nota2 : float\n",
        "media : float\n",
        "\n",
        "# Receber os valores nota1 e nota2, variaveis de entrada\n",
        "nota1 = float(input(\"Digite a nota 1.....\" ))\n",
        "nota2 = float(input(\"Digite a nota 2.....\" ))\n",
        "\n",
        "# Fazer o processo\n",
        "media = float (nota1 + nota2) / 2\n",
        "\n",
        "# exibir resultado de saida\n",
        "print(\"A média é ....\",media)\n",
        "\n",
        "# Condicional simples - apenas usando teste logico\n",
        "\n",
        "if media >5 :\n",
        "  print(\"Passou de ano!\")\n",
        "elif media > 3 and media< 5 :\n",
        "    print(\"Recuperação\")\n",
        "else :\n",
        "    print(\"Reprovado\")\n",
        "\n",
        "\n",
        "  # Exibir o resultado de saída\n",
        "\n",
        "    print(\"A média é ...\",media)"
      ]
    },
    {
      "cell_type": "code",
      "source": [
        "# início\n",
        "# Declaração de Variaveis\n",
        "# Literal = str / Numero inteiro = int / Numero Real = float\n",
        "nota1 : float\n",
        "nota2 : float\n",
        "media : float\n",
        "decisao : str # adiciona a variavel do tipo string\n",
        "\n",
        "# Adicionar a entrada da variaável decisão\n",
        "decisao = str(input(\"Deseja calcular a média, precione S ou N? \"))\n",
        "\n",
        "# Adicionar o laço de repetição enquanto(while)\n",
        "while decisao == \"S\" or decisao == \"s\" :\n",
        "\n",
        "# Receber os valores nota1 e nota2, variaveis de entrada\n",
        "  nota1 = float(input(\"Digite a nota 1.....\" ))\n",
        "  nota2 = float(input(\"Digite a nota 2.....\" ))\n",
        "\n",
        "  # Fazer o processo\n",
        "  media = float (nota1 + nota2) / 2\n",
        "\n",
        "  # exibir resultado de saida\n",
        "  print(\"A média é ....\",media)\n",
        "\n",
        "  # Condicional simples - apenas usando teste logico\n",
        "\n",
        "  if media >5 :\n",
        "    print(\"Passou de ano!\")\n",
        "  elif media > 3 and media< 5 :\n",
        "      print(\"Recuperação\")\n",
        "  else :\n",
        "      print(\"Reprovado\")\n",
        "\n",
        "\n",
        "    # Exibir o resultado de saída\n",
        "\n",
        "      print(\"A média é ...\",media)\n",
        "\n",
        "    # Adicinar a entrada da decisão p/ recalcular\n",
        "  decisao = str(input(\"Deseja recalcular a média, precione S ou N? \"))\n",
        "\n",
        "  # Adicionar a mensagem de saída de agradecimento\n",
        "  print(\"Obrigado e volte sempre!!! \")\n",
        "\n",
        "  # Fim"
      ],
      "metadata": {
        "colab": {
          "base_uri": "https://localhost:8080/"
        },
        "id": "QvxY7HCSgEam",
        "outputId": "336dc196-45a8-43f4-9269-9a1fdbc196e7"
      },
      "execution_count": 5,
      "outputs": [
        {
          "output_type": "stream",
          "name": "stdout",
          "text": [
            "Deseja calcular a média, precione S ou N? s\n",
            "Digite a nota 1.....5.5\n",
            "Digite a nota 2.....4\n",
            "A média é .... 4.75\n",
            "Recuperação\n",
            "Deseja recalcular a média, precione S ou N? s\n",
            "Obrigado e volte sempre!!! \n",
            "Digite a nota 1.....8\n",
            "Digite a nota 2.....7\n",
            "A média é .... 7.5\n",
            "Passou de ano!\n",
            "Deseja recalcular a média, precione S ou N? n\n",
            "Obrigado e volte sempre!!! \n"
          ]
        }
      ]
    },
    {
      "cell_type": "code",
      "source": [
        "  # início\n",
        "  # Declaração de Variaveis\n",
        "  # Literal = str / Numero inteiro = int / Numero Real = float\n",
        "  nota1 : float\n",
        "  nota2 : float\n",
        "  media : float\n",
        "  qtd : str # adiciona a variavel do tipo string\n",
        "  def media2N(n1, n2):\n",
        "            calc_media = (n1 + n2) / 2\n",
        "            return calc_media\n",
        "\n",
        "\n",
        "  def sit_aluno(n):\n",
        "            if media > 5 :\n",
        "              print(\"Passou de ano!\")\n",
        "            elif media > 3 and media < 5:\n",
        "              print(\"Recuperaçao\")\n",
        "            else :\n",
        "              print(\"Reprovado!\")\n",
        "\n",
        "  # Adicionar a entrada da variável decisão\n",
        "  decisao = str(input(\"Deseja calcular a média, pressione S ou N? \")).upper()\n",
        "\n",
        "  # Adicionar o laço de repetição para (for)\n",
        "  while decisao == \"S\" :\n",
        "\n",
        "              # Receber os valores nota1 e nota2, variaveis de entrada\n",
        "              nota1 = float(input(\"Digite a nota 1.....\" ))\n",
        "              nota2 = float(input(\"Digite a nota 2.....\" ))\n",
        "\n",
        "              # Fazer o processo\n",
        "              media= media2N(nota1, nota2)\n",
        "\n",
        "              # Exibir resultado de saida\n",
        "              print(\"A média é ....\", media)\n",
        "              sit_aluno(media)\n",
        "\n",
        "              # Adicionar a entrada da decisão p/ recalcular\n",
        "              decisao = str(input(\"Deseja calcular a média, pressione S ou N? \")).upper()\n",
        "\n",
        "              # Adicionar a mensagem de saída de agradecimento\n",
        "              print(\"Obrigado e volte sempre!!! \")\n",
        "\n",
        "              # Condicional simples - apenas usando teste logico\n",
        "              if media >5 :\n",
        "               print(\"Passou de ano!\")\n",
        "              elif media > 3 and media < 5 :\n",
        "                print(\"Recuperação\")\n",
        "              else :\n",
        "                print(\"Reprovado\")\n",
        "\n",
        "              # Exibir o resultado de saída\n",
        "              print(\"A média é ...\",media)\n",
        "\n",
        "              #incrementar a variável contador\n",
        "              contador = contador + 1\n",
        "              print(\"Contador em :\", contador)\n",
        "\n",
        "              # Adicionar a mensagem de saída de agradecimento\n",
        "              print(\"Obrigado e volte sempre!!! \")\n",
        "              if contador == 2 :\n",
        "                  cartao = \"bloqueado\"\n",
        "              else :\n",
        "                  cartao = \"liberado\"\n",
        "    # Fim\n"
      ],
      "metadata": {
        "colab": {
          "base_uri": "https://localhost:8080/"
        },
        "id": "ZEKSnI_UK1I0",
        "outputId": "14bc133c-ac47-4d06-cec0-9954801a9c67"
      },
      "execution_count": 15,
      "outputs": [
        {
          "output_type": "stream",
          "name": "stdout",
          "text": [
            "Deseja calcular a média, pressione S ou N? s\n",
            "Digite a nota 1.....4.5\n",
            "Digite a nota 2.....5\n",
            "A média é .... 4.75\n",
            "Recuperaçao\n",
            "Deseja calcular a média, pressione S ou N? n\n",
            "Obrigado e volte sempre!!! \n",
            "Recuperação\n",
            "A média é ... 4.75\n",
            "Contador em : 3\n",
            "Obrigado e volte sempre!!! \n"
          ]
        }
      ]
    },
    {
      "cell_type": "code",
      "source": [
        "# início\n",
        "# Declaração de Variaveis\n",
        "nome: str\n",
        "peso: float\n",
        "altura: float\n",
        "imc: float\n",
        "opcao: int\n",
        "\n",
        "# Função calcular o IMC\n",
        "def calc_imc (peso , altura):\n",
        " vl_imc = peso / (altura * altura)\n",
        " return vl_imc\n",
        "\n",
        "def classific_imc(imc):\n",
        "\n",
        "# Classificação pelo resultado do IMC usando condicional IF-ELIF-ESLSE\n",
        " if imc < 18.5:\n",
        "        print(nome, \"Magreza!\")# saída de resultado\n",
        " elif imc >= 18.5 and imc <= 24.9:\n",
        "        print(nome, \"normal\")# saída de resultado\n",
        " elif imc >= 25.0 and imc <= 29.9:\n",
        "        print(nome, \"Sobrepeso!\")# saída de resultado\n",
        " elif imc >= 30.0 and imc <= 34.9:\n",
        "        print(nome, \"Obesidade grau I\")# saída de resultado\n",
        " elif imc >= 35.0 and imc <= 40:\n",
        "        print(nome, \"Obesidade grau II\")# saída de resultado\n",
        " else:\n",
        "        print(nome, \"Obesidade grau III\")# saída de resultado\n",
        "# adiciona a variavel do tipo inteiro\n",
        "opcao = int(input(\"Digite 1 para calcular o IMC ou outro numero para sair:\"))\n",
        "\n",
        "# Adicionar o laço de repetição enquanto (while)\n",
        "while (opcao == 1):\n",
        "\n",
        "# Receber os valores peso e altura, variaveis de entrada\n",
        " nome = str(input(\"Digite o seu nome:\"))\n",
        " peso = float(input(\"Digite o seu peso em Kg:\" ))\n",
        " altura = float(input(\"Digite a sua altura em metros:\" ))\n",
        "\n",
        "    # Fazer o processo do calculo IMC\n",
        " imc = calc_imc(peso, altura)\n",
        "\n",
        "    # exibir resultado de saida\n",
        " print(\"O seu IMC é:\", imc)\n",
        "\n",
        "    # Chamada da função classificação do IMC\n",
        "\n",
        " classific_imc(imc)\n",
        "\n",
        "      # Pergunta de confirmação\n",
        " opcao = int(input(\"Digite 1 para recalcular o IMC ou outro numero para sair:\"))\n",
        "\n",
        "# Adicionar a mensagem de saída de encerramento\n",
        " print(\"Obrigado! Calculadora IMC encerrada \")\n"
      ],
      "metadata": {
        "colab": {
          "base_uri": "https://localhost:8080/"
        },
        "id": "VOz9wU0Wt97T",
        "outputId": "3cc34eea-d5f2-46d4-c3ef-dc76ba27ad0e"
      },
      "execution_count": 22,
      "outputs": [
        {
          "output_type": "stream",
          "name": "stdout",
          "text": [
            "Digite 1 para calcular o IMC ou outro numero para sair:1\n",
            "Digite o seu nome:Clayton\n",
            "Digite o seu peso em Kg:80\n",
            "Digite a sua altura em metros:1.82\n",
            "O seu IMC é: 24.151672503320853\n",
            "Clayton normal\n",
            "Digite 1 para recalcular o IMC ou outro numero para sair:2\n",
            "Obrigado! Calculadora IMC encerrada \n"
          ]
        }
      ]
    },
    {
      "cell_type": "code",
      "source": [
        "# Início\n",
        "\n",
        "# Declarar variáveis\n",
        "salario_atual: float\n",
        "salario_novo: float\n",
        "qtd_func: int\n",
        "contador: int\n",
        "\n",
        "# Ao inicio pedimos o qtd de funcionários\n",
        "qtd_func = int(input(\"Digite o núm. de funcionários: \"))\n",
        "\n",
        "# Crianos o loop usando o \"for\", já que sabemos a qtd de funcionários\n",
        "for contador in range(qtd_func):\n",
        "  # REceber o valor do salário do funcionário\n",
        "  salario_atual = float(input(\"Digite o valor do salário atual: \"))\n",
        "\n",
        "  # Fazer o processamento - calcular a correção salarial\n",
        "  salario_novo = salario_atual * 1.15\n",
        "\n",
        "  # Imprimir os resultados do salário corrigido\n",
        "  print(\"Salário Corrigido: \", salario_novo)\n",
        "\n",
        "  # Mensagem de despedida...\n",
        "  print(\"Atualização salarial concluida!\")\n",
        "\n",
        "# Fim"
      ],
      "metadata": {
        "colab": {
          "base_uri": "https://localhost:8080/"
        },
        "id": "b_J-Q41b4hfU",
        "outputId": "c0e70877-6d31-4ee3-bb62-b31f7688e905"
      },
      "execution_count": 2,
      "outputs": [
        {
          "output_type": "stream",
          "name": "stdout",
          "text": [
            "Digite o núm. de funcionários: 2\n",
            "Digite o valor do salário atual: 1525\n",
            "Salário Corrigido:  1753.7499999999998\n",
            "Atualização salarial concluida!\n",
            "Digite o valor do salário atual: 1300\n",
            "Salário Corrigido:  1494.9999999999998\n",
            "Atualização salarial concluida!\n"
          ]
        }
      ]
    },
    {
      "cell_type": "code",
      "source": [
        "# Início\n",
        "\n",
        "# Declarar variáveis\n",
        "salario_atual: float\n",
        "salario_novo: float\n",
        "qtd_func: int\n",
        "contador: int\n",
        "\n",
        "# Criar a função de correção salarial\n",
        "def calc_salario(sa, perc):\n",
        "  novo_sal = round(sa* (1 + perc), 2)\n",
        "  return novo_sal\n",
        "\n",
        "# Ao iniciar pedimos o qtd de funcionários\n",
        "qtd_func = int(input(\"Digite o núm. de funcionários:\"))\n",
        "\n",
        "# Criamos o loop usando o \"for\", já que sabemos a qtd de funcionários\n",
        "for contador in range(qtd_func) :\n",
        "\n",
        "  # Receber o valor do salário do funcionário\n",
        "  salario_atual = float(input(\"Digite o valor do salário atual: \"))\n",
        "\n",
        "  # Receber o percentual em decimal\n",
        "  percentual = float(input(\"Digite o percentual em decimal: \"))\n",
        "\n",
        "  # Fazer a chamada da função que calcula a correção salarial\n",
        "  salario_novo = calc_salario(salario_atual,percentual)\n",
        "\n",
        "  # imprimir os resultados do salario corrigido\n",
        "  print(\"salario Corrigido: \", salario_novo)\n",
        "\n",
        "# Mensagem de despedida...\n",
        "print(\"Atualização salarial concluida!\")\n",
        "\n",
        "# Fim"
      ],
      "metadata": {
        "colab": {
          "base_uri": "https://localhost:8080/"
        },
        "id": "5B3fbs4ICgSm",
        "outputId": "194e7ae1-db97-4c86-f14d-f95550ce0520"
      },
      "execution_count": 3,
      "outputs": [
        {
          "output_type": "stream",
          "name": "stdout",
          "text": [
            "Digite o núm. de funcionários:1\n",
            "Digite o valor do salário atual: 1525\n",
            "Digite o percentual em decimal: 0.15\n",
            "salario Corrigido:  1753.75\n",
            "Atualização salarial concluida!\n"
          ]
        }
      ]
    },
    {
      "cell_type": "code",
      "source": [
        "# início\n",
        "# Declaração de Variaveis\n",
        "# Literal = str / Numero inteiro = int / Numero Real = float\n",
        "nota1 : float\n",
        "nota2 : float\n",
        "media : float\n",
        "qtd : int # Variável de entrada do tipo inteiro (integer)\n",
        "contador : int # Variável contadora usada internamente pelo while\n",
        "\n",
        "# Adicionar a entrada da variaável decisão\n",
        "qtd = int(input(\"Digite a quantidade de vezes? \"))\n",
        "\n",
        "# Atribuir o valor 0 a variável contador\n",
        "contador = 0\n",
        "\n",
        "  # Adicionar o laço de repetição enquanto (while)\n",
        "while contador < qtd:\n",
        "\n",
        "      # Receber os valores nota1 e nota2, variaveis de entrada\n",
        "      nota1 = float(input(\"Digite a nota 1.....\" ))\n",
        "      nota2 = float(input(\"Digite a nota 2.....\" ))\n",
        "\n",
        "      # Fazer o processo\n",
        "      media = float (nota1 + nota2) / 2\n",
        "\n",
        "      # exibir resultado de saida\n",
        "      print(\"A média é ....\",media)\n",
        "\n",
        "      # Condicional simples - apenas usando teste logico\n",
        "\n",
        "      if media >5 :\n",
        "        print(\"Passou de ano!\")\n",
        "      elif media > 3 and media< 5 :\n",
        "          print(\"Recuperação\")\n",
        "      else :\n",
        "          print(\"Reprovado\")\n",
        "\n",
        "\n",
        "      # Exibir o resultado de saída\n",
        "\n",
        "          print(\"A média é ...\",media)\n",
        "\n",
        "       #incrementar a variável contadot\n",
        "          contador = contador + 1\n",
        "          print(\"Contador em :\", contador)\n",
        "\n",
        "       # Adicionar a mensagem de saída de agradecimento\n",
        "\n",
        "          print(\"Obrigado e volte sempre!!! \")\n",
        "\n",
        "    # Fim"
      ],
      "metadata": {
        "colab": {
          "base_uri": "https://localhost:8080/",
          "height": 678
        },
        "id": "yz2jQJZXnTKB",
        "outputId": "004fae29-2c9d-41a2-bf29-e93ca7dd1e6e"
      },
      "execution_count": 15,
      "outputs": [
        {
          "output_type": "stream",
          "name": "stdout",
          "text": [
            "Digite a quantidade de vezes? 3\n",
            "Digite a nota 1.....4.5\n",
            "Digite a nota 2.....5\n",
            "A média é .... 4.75\n",
            "Recuperação\n",
            "Digite a nota 1.....4\n",
            "Digite a nota 2.....6.5\n",
            "A média é .... 5.25\n",
            "Passou de ano!\n",
            "Digite a nota 1.....8\n",
            "Digite a nota 2.....6\n",
            "A média é .... 7.0\n",
            "Passou de ano!\n",
            "Digite a nota 1.....4.5\n",
            "Digite a nota 2.....5\n",
            "A média é .... 4.75\n",
            "Recuperação\n"
          ]
        },
        {
          "output_type": "error",
          "ename": "KeyboardInterrupt",
          "evalue": "Interrupted by user",
          "traceback": [
            "\u001b[0;31m---------------------------------------------------------------------------\u001b[0m",
            "\u001b[0;31mKeyboardInterrupt\u001b[0m                         Traceback (most recent call last)",
            "\u001b[0;32m<ipython-input-15-136d6f337b28>\u001b[0m in \u001b[0;36m<cell line: 17>\u001b[0;34m()\u001b[0m\n\u001b[1;32m     18\u001b[0m \u001b[0;34m\u001b[0m\u001b[0m\n\u001b[1;32m     19\u001b[0m     \u001b[0;31m# Receber os valores nota1 e nota2, variaveis de entrada\u001b[0m\u001b[0;34m\u001b[0m\u001b[0;34m\u001b[0m\u001b[0m\n\u001b[0;32m---> 20\u001b[0;31m       \u001b[0mnota1\u001b[0m \u001b[0;34m=\u001b[0m \u001b[0mfloat\u001b[0m\u001b[0;34m(\u001b[0m\u001b[0minput\u001b[0m\u001b[0;34m(\u001b[0m\u001b[0;34m\"Digite a nota 1.....\"\u001b[0m \u001b[0;34m)\u001b[0m\u001b[0;34m)\u001b[0m\u001b[0;34m\u001b[0m\u001b[0;34m\u001b[0m\u001b[0m\n\u001b[0m\u001b[1;32m     21\u001b[0m       \u001b[0mnota2\u001b[0m \u001b[0;34m=\u001b[0m \u001b[0mfloat\u001b[0m\u001b[0;34m(\u001b[0m\u001b[0minput\u001b[0m\u001b[0;34m(\u001b[0m\u001b[0;34m\"Digite a nota 2.....\"\u001b[0m \u001b[0;34m)\u001b[0m\u001b[0;34m)\u001b[0m\u001b[0;34m\u001b[0m\u001b[0;34m\u001b[0m\u001b[0m\n\u001b[1;32m     22\u001b[0m \u001b[0;34m\u001b[0m\u001b[0m\n",
            "\u001b[0;32m/usr/local/lib/python3.10/dist-packages/ipykernel/kernelbase.py\u001b[0m in \u001b[0;36mraw_input\u001b[0;34m(self, prompt)\u001b[0m\n\u001b[1;32m    849\u001b[0m                 \u001b[0;34m\"raw_input was called, but this frontend does not support input requests.\"\u001b[0m\u001b[0;34m\u001b[0m\u001b[0;34m\u001b[0m\u001b[0m\n\u001b[1;32m    850\u001b[0m             )\n\u001b[0;32m--> 851\u001b[0;31m         return self._input_request(str(prompt),\n\u001b[0m\u001b[1;32m    852\u001b[0m             \u001b[0mself\u001b[0m\u001b[0;34m.\u001b[0m\u001b[0m_parent_ident\u001b[0m\u001b[0;34m,\u001b[0m\u001b[0;34m\u001b[0m\u001b[0;34m\u001b[0m\u001b[0m\n\u001b[1;32m    853\u001b[0m             \u001b[0mself\u001b[0m\u001b[0;34m.\u001b[0m\u001b[0m_parent_header\u001b[0m\u001b[0;34m,\u001b[0m\u001b[0;34m\u001b[0m\u001b[0;34m\u001b[0m\u001b[0m\n",
            "\u001b[0;32m/usr/local/lib/python3.10/dist-packages/ipykernel/kernelbase.py\u001b[0m in \u001b[0;36m_input_request\u001b[0;34m(self, prompt, ident, parent, password)\u001b[0m\n\u001b[1;32m    893\u001b[0m             \u001b[0;32mexcept\u001b[0m \u001b[0mKeyboardInterrupt\u001b[0m\u001b[0;34m:\u001b[0m\u001b[0;34m\u001b[0m\u001b[0;34m\u001b[0m\u001b[0m\n\u001b[1;32m    894\u001b[0m                 \u001b[0;31m# re-raise KeyboardInterrupt, to truncate traceback\u001b[0m\u001b[0;34m\u001b[0m\u001b[0;34m\u001b[0m\u001b[0m\n\u001b[0;32m--> 895\u001b[0;31m                 \u001b[0;32mraise\u001b[0m \u001b[0mKeyboardInterrupt\u001b[0m\u001b[0;34m(\u001b[0m\u001b[0;34m\"Interrupted by user\"\u001b[0m\u001b[0;34m)\u001b[0m \u001b[0;32mfrom\u001b[0m \u001b[0;32mNone\u001b[0m\u001b[0;34m\u001b[0m\u001b[0;34m\u001b[0m\u001b[0m\n\u001b[0m\u001b[1;32m    896\u001b[0m             \u001b[0;32mexcept\u001b[0m \u001b[0mException\u001b[0m \u001b[0;32mas\u001b[0m \u001b[0me\u001b[0m\u001b[0;34m:\u001b[0m\u001b[0;34m\u001b[0m\u001b[0;34m\u001b[0m\u001b[0m\n\u001b[1;32m    897\u001b[0m                 \u001b[0mself\u001b[0m\u001b[0;34m.\u001b[0m\u001b[0mlog\u001b[0m\u001b[0;34m.\u001b[0m\u001b[0mwarning\u001b[0m\u001b[0;34m(\u001b[0m\u001b[0;34m\"Invalid Message:\"\u001b[0m\u001b[0;34m,\u001b[0m \u001b[0mexc_info\u001b[0m\u001b[0;34m=\u001b[0m\u001b[0;32mTrue\u001b[0m\u001b[0;34m)\u001b[0m\u001b[0;34m\u001b[0m\u001b[0;34m\u001b[0m\u001b[0m\n",
            "\u001b[0;31mKeyboardInterrupt\u001b[0m: Interrupted by user"
          ]
        }
      ]
    },
    {
      "cell_type": "code",
      "source": [
        "# inicio\n",
        "# Declarando as variaveis\n",
        "produto : str\n",
        "val_orig : float\n",
        "val_desc : float\n",
        "\n",
        "# Receber os valores de entrada\n",
        "produto = str(input(\"Digite o nome do produto: \"))\n",
        "val_orig = float(input(\"Digite o valor original do produto: \"))\n",
        "\n",
        "# Fazer p processamento - 10% de desconto\n",
        "val_desc = val_orig * 0.90 # Os percentuais devem ser tratados como decimais\n",
        "\n",
        "# Condicional if, elif, else\n",
        "if val_desc > 1000 :\n",
        "    print(\"Muito caro\")\n",
        "elif val_desc > 800 and val_desc <= 1000 :\n",
        "    print(\"Caro\")\n",
        "elif val_desc > 500 and val_desc <= 800 :\n",
        "    print(\"Justo\")\n",
        "else :\n",
        "    print(\"barato\")\n",
        "# Mostras as mensagens de saída\n",
        "    print(\"Produto:\", produto)\n",
        "    print(\"valor original:\", val_orig)\n",
        "    print(\"valor original:\", val_desc)\n",
        "# Fim"
      ],
      "metadata": {
        "colab": {
          "base_uri": "https://localhost:8080/"
        },
        "id": "ZcCiFKw2ddhk",
        "outputId": "b7fcec10-ab8d-4c6a-82d1-b3f3ddee3846"
      },
      "execution_count": 1,
      "outputs": [
        {
          "output_type": "stream",
          "name": "stdout",
          "text": [
            "Digite o nome do produto: Cesta de Natal\n",
            "Digite o valor original do produto: 700\n",
            "Justo\n"
          ]
        }
      ]
    }
  ]
}